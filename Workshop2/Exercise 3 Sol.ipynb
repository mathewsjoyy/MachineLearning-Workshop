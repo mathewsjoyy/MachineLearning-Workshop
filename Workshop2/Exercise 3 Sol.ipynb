{
 "cells": [
  {
   "cell_type": "code",
   "execution_count": null,
   "metadata": {},
   "outputs": [],
   "source": [
    "import numpy as np\n",
    "import matplotlib.pyplot as plt\n",
    "from sklearn.model_selection import cross_val_score\n",
    "from sklearn.linear_model import LinearRegression\n",
    "\n",
    "# Set random seed for reproducibility\n",
    "np.random.seed(0)\n",
    "\n",
    "# Generate synthetic data for two classes (0 < x < 10 and 0 < y < 20)\n",
    "num_samples = 1000\n",
    "x = np.random.uniform(0, 10, num_samples)\n",
    "y = np.random.uniform(0, 20, num_samples)\n",
    "\n",
    "# Create labels based on the decision boundary y = 2x + 3\n",
    "labels = (y >= (2 * x + 3)).astype(int)\n",
    "\n",
    "# Create a scatter plot to visualize the data\n",
    "plt.figure(figsize=(8, 6))\n",
    "plt.scatter(x, y, c=labels, cmap=plt.cm.Paired)\n",
    "plt.plot([0, 10], [3, 23], 'k--', lw=2, label='Decision Boundary (y = 2x + 3)')\n",
    "plt.xlabel('X-axis')\n",
    "plt.ylabel('Y-axis')\n",
    "plt.title('Synthetic Data with Decision Boundary')\n",
    "plt.legend()\n",
    "plt.grid(True)\n",
    "\n",
    "# Create a linear regression model\n",
    "linear_reg = LinearRegression()\n",
    "\n",
    "# Perform cross-validation to estimate the optimal 'a' (slope) and 'b' (intercept) values\n",
    "a_values = np.linspace(1, 4, 100)  # Range of 'a' values to try\n",
    "b_values = np.linspace(1, 4, 100)  # Range of 'b' values to try\n",
    "\n",
    "best_score = -1\n",
    "best_a = None\n",
    "best_b = None\n",
    "\n",
    "for a in a_values:\n",
    "    for b in b_values:\n",
    "        # Create synthetic data points based on the current 'a' and 'b' values\n",
    "        synthetic_y = a * x + b\n",
    "        # Calculate the mean squared error between the synthetic 'y' and actual 'y'\n",
    "        mse = np.mean((synthetic_y - y) ** 2)\n",
    "        if mse > best_score:\n",
    "            best_score = mse\n",
    "            best_a = a\n",
    "            best_b = b\n",
    "\n",
    "print(f\"Optimal 'a' (slope): {best_a:.2f}\")\n",
    "print(f\"Optimal 'b' (intercept): {best_b:.2f}\")\n",
    "print(f\"Best Mean Squared Error: {best_score:.2f}\")\n",
    "\n",
    "# Visualize the optimal decision boundary\n",
    "plt.plot([0, 10], [best_b, best_b + best_a * 10], 'r-', lw=2, label='Optimal Decision Boundary')\n",
    "plt.legend()\n",
    "plt.show()\n"
   ]
  }
 ],
 "metadata": {
  "kernelspec": {
   "display_name": "Python 3",
   "language": "python",
   "name": "python3"
  },
  "language_info": {
   "codemirror_mode": {
    "name": "ipython",
    "version": 3
   },
   "file_extension": ".py",
   "mimetype": "text/x-python",
   "name": "python",
   "nbconvert_exporter": "python",
   "pygments_lexer": "ipython3",
   "version": "3.8.5"
  }
 },
 "nbformat": 4,
 "nbformat_minor": 4
}
